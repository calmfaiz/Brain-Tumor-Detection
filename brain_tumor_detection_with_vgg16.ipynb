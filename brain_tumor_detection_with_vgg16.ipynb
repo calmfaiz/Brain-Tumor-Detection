{
  "cells": [
    {
      "cell_type": "code",
      "execution_count": null,
      "metadata": {
        "colab": {
          "base_uri": "https://localhost:8080/"
        },
        "id": "kAJKhL8bDlLC",
        "outputId": "e8665939-463d-4c94-b55b-d12e5eef6972"
      },
      "outputs": [
        {
          "name": "stdout",
          "output_type": "stream",
          "text": [
            "Requirement already satisfied: imutils in /usr/local/lib/python3.10/dist-packages (0.5.4)\n"
          ]
        }
      ],
      "source": [
        "!pip3 install imutils"
      ]
    },
    {
      "cell_type": "code",
      "execution_count": null,
      "metadata": {
        "id": "9HwBf0QKDlLE"
      },
      "outputs": [],
      "source": [
        "from tensorflow.keras.preprocessing.image import ImageDataGenerator\n",
        "from tensorflow.keras.applications import VGG16\n",
        "from tensorflow.keras.layers import AveragePooling2D\n",
        "from tensorflow.keras.layers import Dropout\n",
        "from tensorflow.keras.layers import Flatten\n",
        "from tensorflow.keras.layers import Dense\n",
        "from tensorflow.keras.layers import Input\n",
        "from tensorflow.keras.models import Model\n",
        "from tensorflow.keras.optimizers import Adam\n",
        "from tensorflow.keras.utils import to_categorical\n",
        "from sklearn.preprocessing import LabelBinarizer\n",
        "from sklearn.model_selection import train_test_split\n",
        "from sklearn.metrics import classification_report\n",
        "from sklearn.metrics import confusion_matrix\n",
        "from imutils import paths\n",
        "import matplotlib.pyplot as plt\n",
        "import numpy as np\n",
        "import argparse\n",
        "import cv2\n",
        "import os"
      ]
    },
    {
      "cell_type": "code",
      "execution_count": null,
      "metadata": {
        "colab": {
          "base_uri": "https://localhost:8080/"
        },
        "id": "17p4AkGLFrG_",
        "outputId": "30bd0758-24f5-4892-ad54-96bf201ee508"
      },
      "outputs": [
        {
          "name": "stdout",
          "output_type": "stream",
          "text": [
            "Mounted at /content/drive\n"
          ]
        }
      ],
      "source": [
        "from google.colab import drive\n",
        "drive.mount('/content/drive')"
      ]
    },
    {
      "cell_type": "code",
      "execution_count": null,
      "metadata": {
        "colab": {
          "base_uri": "https://localhost:8080/"
        },
        "id": "iBkAuYzODlLE",
        "outputId": "6d46f6ec-b907-4d71-f11d-a3e5963ce43c"
      },
      "outputs": [
        {
          "name": "stdout",
          "output_type": "stream",
          "text": [
            "[INFO] loading images...\n"
          ]
        }
      ],
      "source": [
        "print(\"[INFO] loading images...\")\n",
        "imagePaths = list(paths.list_images(\"/content/drive/MyDrive/MAJOR PROJECT/Brain-Tumor-Detection-with-VGG16-main/archive/brain_tumor_dataset\"))\n",
        "data = []\n",
        "labels = []\n",
        "\n",
        "for imagePath in imagePaths:\n",
        "\n",
        "\tlabel = imagePath.split(os.path.sep)[-2]\n",
        "\n",
        "\n",
        "\timage = cv2.imread(imagePath)\n",
        "\timage = cv2.cvtColor(image, cv2.COLOR_BGR2RGB)\n",
        "\timage = cv2.resize(image, (224, 224))\n",
        "\n",
        "\n",
        "\tdata.append(image)\n",
        "\tlabels.append(label)\n",
        "\n",
        "\n",
        "data = np.array(data) / 255.0\n",
        "labels = np.array(labels)\n",
        "\n",
        "# perform one-hot encoding on the labels\n",
        "lb = LabelBinarizer()\n",
        "labels = lb.fit_transform(labels)\n",
        "labels = to_categorical(labels)"
      ]
    },
    {
      "cell_type": "code",
      "execution_count": null,
      "metadata": {
        "colab": {
          "base_uri": "https://localhost:8080/"
        },
        "id": "cFyizpRKDlLF",
        "outputId": "6ccd6093-a82a-4f4b-9456-86b6cf8e45a1"
      },
      "outputs": [
        {
          "name": "stdout",
          "output_type": "stream",
          "text": [
            "Downloading data from https://storage.googleapis.com/tensorflow/keras-applications/vgg16/vgg16_weights_tf_dim_ordering_tf_kernels_notop.h5\n",
            "58889256/58889256 [==============================] - 0s 0us/step\n"
          ]
        }
      ],
      "source": [
        "(trainX, testX, trainY, testY) = train_test_split(data, labels,test_size=0.20,\n",
        "                                                  stratify=labels, random_state=42)\n",
        "\n",
        "# initialize the training data augmentation object\n",
        "trainAug = ImageDataGenerator(\n",
        "\trotation_range=15,\n",
        "\tfill_mode=\"nearest\")\n",
        "\n",
        "# load the VGG16 network, ensuring the head fully connected layer sets are left off\n",
        "baseModel = VGG16(weights=\"imagenet\", include_top=False,input_tensor=Input(shape=(224, 224, 3)))"
      ]
    },
    {
      "cell_type": "code",
      "execution_count": null,
      "metadata": {
        "id": "mmR0C70hDlLF"
      },
      "outputs": [],
      "source": [
        "headModel = baseModel.output\n",
        "headModel = AveragePooling2D(pool_size=(4, 4))(headModel)\n",
        "headModel = Flatten(name=\"flatten\")(headModel)\n",
        "headModel = Dense(64, activation=\"relu\")(headModel)\n",
        "headModel = Dropout(0.5)(headModel)\n",
        "headModel = Dense(2, activation=\"softmax\")(headModel)"
      ]
    },
    {
      "cell_type": "code",
      "execution_count": null,
      "metadata": {
        "id": "7zQJUxjpDlLF"
      },
      "outputs": [],
      "source": [
        "INIT_LR = 1e-3\n",
        "EPOCHS = 25\n",
        "BS = 8"
      ]
    },
    {
      "cell_type": "markdown",
      "metadata": {
        "id": "iNCC5MaODlLF"
      },
      "source": [
        "**Initialising learning rate as 1e-3 , epochs as 25 and batch size as 8**"
      ]
    },
    {
      "cell_type": "code",
      "execution_count": null,
      "metadata": {
        "id": "4a_83YHIHQdv"
      },
      "outputs": [],
      "source": [
        "import tensorflow as tf"
      ]
    },
    {
      "cell_type": "code",
      "execution_count": null,
      "metadata": {
        "colab": {
          "base_uri": "https://localhost:8080/"
        },
        "id": "pDlZNUb8DlLF",
        "outputId": "7f419eaa-9db5-492e-a7e6-2d9733bc4411"
      },
      "outputs": [
        {
          "name": "stdout",
          "output_type": "stream",
          "text": [
            "[INFO] compiling model...\n"
          ]
        },
        {
          "name": "stderr",
          "output_type": "stream",
          "text": [
            "/usr/local/lib/python3.10/dist-packages/keras/src/optimizers/legacy/adam.py:118: UserWarning: The `lr` argument is deprecated, use `learning_rate` instead.\n",
            "  super().__init__(name, **kwargs)\n"
          ]
        }
      ],
      "source": [
        "model = Model(inputs=baseModel.input, outputs=headModel)\n",
        "\n",
        "# loop over all layers in the base model and freeze them so they will\n",
        "# *not* be updated during the first training process\n",
        "for layer in baseModel.layers:\n",
        "\tlayer.trainable = False\n",
        "\n",
        "# compile our model\n",
        "print(\"[INFO] compiling model...\")\n",
        "opt = tf.keras.optimizers.legacy.Adam(lr=INIT_LR, decay=INIT_LR / EPOCHS)\n",
        "model.compile(loss=\"binary_crossentropy\", optimizer=opt,\n",
        "\tmetrics=[\"accuracy\"])"
      ]
    },
    {
      "cell_type": "code",
      "execution_count": null,
      "metadata": {
        "colab": {
          "background_save": true,
          "base_uri": "https://localhost:8080/"
        },
        "id": "M4mOviYtDlLG",
        "outputId": "4a70a1d7-cebe-4a86-9401-cd74cc3ec932"
      },
      "outputs": [
        {
          "name": "stdout",
          "output_type": "stream",
          "text": [
            "[INFO] training head...\n"
          ]
        },
        {
          "name": "stderr",
          "output_type": "stream",
          "text": [
            "<ipython-input-10-88f7e153467d>:2: UserWarning: `Model.fit_generator` is deprecated and will be removed in a future version. Please use `Model.fit`, which supports generators.\n",
            "  H = model.fit_generator(\n"
          ]
        },
        {
          "name": "stdout",
          "output_type": "stream",
          "text": [
            "Epoch 1/25\n",
            "25/25 [==============================] - 154s 6s/step - loss: 0.6911 - accuracy: 0.6392 - val_loss: 0.6425 - val_accuracy: 0.6078\n",
            "Epoch 2/25\n",
            "25/25 [==============================] - 162s 6s/step - loss: 0.6677 - accuracy: 0.6340 - val_loss: 0.6001 - val_accuracy: 0.6078\n",
            "Epoch 3/25\n",
            "25/25 [==============================] - 165s 7s/step - loss: 0.6351 - accuracy: 0.6546 - val_loss: 0.5821 - val_accuracy: 0.8039\n",
            "Epoch 4/25\n",
            "25/25 [==============================] - 162s 7s/step - loss: 0.6283 - accuracy: 0.7010 - val_loss: 0.5604 - val_accuracy: 0.8039\n",
            "Epoch 5/25\n",
            "25/25 [==============================] - 161s 7s/step - loss: 0.5900 - accuracy: 0.7320 - val_loss: 0.5406 - val_accuracy: 0.8039\n",
            "Epoch 6/25\n",
            "25/25 [==============================] - 165s 7s/step - loss: 0.5662 - accuracy: 0.7423 - val_loss: 0.5171 - val_accuracy: 0.8039\n",
            "Epoch 7/25\n",
            "25/25 [==============================] - 166s 7s/step - loss: 0.5439 - accuracy: 0.7526 - val_loss: 0.5370 - val_accuracy: 0.7843\n",
            "Epoch 8/25\n",
            "25/25 [==============================] - 163s 7s/step - loss: 0.5499 - accuracy: 0.7526 - val_loss: 0.4850 - val_accuracy: 0.8039\n",
            "Epoch 9/25\n",
            "25/25 [==============================] - 163s 7s/step - loss: 0.5445 - accuracy: 0.7320 - val_loss: 0.4878 - val_accuracy: 0.7647\n",
            "Epoch 10/25\n",
            "25/25 [==============================] - 163s 7s/step - loss: 0.4902 - accuracy: 0.8200 - val_loss: 0.4675 - val_accuracy: 0.7647\n",
            "Epoch 11/25\n",
            "25/25 [==============================] - 148s 6s/step - loss: 0.5072 - accuracy: 0.7887 - val_loss: 0.4586 - val_accuracy: 0.7647\n",
            "Epoch 12/25\n",
            "25/25 [==============================] - 157s 6s/step - loss: 0.4912 - accuracy: 0.7629 - val_loss: 0.4452 - val_accuracy: 0.7843\n",
            "Epoch 13/25\n",
            "25/25 [==============================] - 160s 6s/step - loss: 0.4943 - accuracy: 0.7680 - val_loss: 0.4380 - val_accuracy: 0.7843\n",
            "Epoch 14/25\n",
            "25/25 [==============================] - 158s 6s/step - loss: 0.4800 - accuracy: 0.7629 - val_loss: 0.4209 - val_accuracy: 0.8235\n",
            "Epoch 15/25\n",
            "25/25 [==============================] - 160s 6s/step - loss: 0.4625 - accuracy: 0.7938 - val_loss: 0.4132 - val_accuracy: 0.8235\n",
            "Epoch 16/25\n",
            "25/25 [==============================] - 158s 7s/step - loss: 0.4611 - accuracy: 0.7629 - val_loss: 0.4114 - val_accuracy: 0.8039\n",
            "Epoch 17/25\n",
            "25/25 [==============================] - 160s 6s/step - loss: 0.4371 - accuracy: 0.7950 - val_loss: 0.3999 - val_accuracy: 0.7843\n",
            "Epoch 18/25\n",
            "25/25 [==============================] - 157s 6s/step - loss: 0.4452 - accuracy: 0.8299 - val_loss: 0.3876 - val_accuracy: 0.7843\n",
            "Epoch 19/25\n",
            "25/25 [==============================] - 158s 6s/step - loss: 0.4192 - accuracy: 0.8196 - val_loss: 0.3840 - val_accuracy: 0.7843\n",
            "Epoch 20/25\n",
            "25/25 [==============================] - 159s 6s/step - loss: 0.4112 - accuracy: 0.8299 - val_loss: 0.3745 - val_accuracy: 0.7843\n",
            "Epoch 21/25\n",
            "25/25 [==============================] - 149s 6s/step - loss: 0.3927 - accuracy: 0.8505 - val_loss: 0.3724 - val_accuracy: 0.7843\n",
            "Epoch 22/25\n",
            "25/25 [==============================] - 160s 6s/step - loss: 0.4180 - accuracy: 0.8196 - val_loss: 0.3754 - val_accuracy: 0.8235\n",
            "Epoch 23/25\n",
            "25/25 [==============================] - 149s 6s/step - loss: 0.4010 - accuracy: 0.8247 - val_loss: 0.3914 - val_accuracy: 0.8235\n",
            "Epoch 24/25\n",
            "25/25 [==============================] - 158s 6s/step - loss: 0.3995 - accuracy: 0.8247 - val_loss: 0.3664 - val_accuracy: 0.7843\n",
            "Epoch 25/25\n",
            "25/25 [==============================] - 159s 6s/step - loss: 0.3864 - accuracy: 0.8660 - val_loss: 0.3657 - val_accuracy: 0.7647\n"
          ]
        }
      ],
      "source": [
        "print(\"[INFO] training head...\")\n",
        "H = model.fit_generator(\n",
        "\ttrainAug.flow(trainX, trainY, batch_size=BS),\n",
        "\tsteps_per_epoch=len(trainX) // BS,\n",
        "\tvalidation_data=(testX, testY),\n",
        "\tvalidation_steps=len(testX) // BS,\n",
        "\tepochs=EPOCHS)"
      ]
    },
    {
      "cell_type": "code",
      "execution_count": null,
      "metadata": {
        "colab": {
          "background_save": true
        },
        "id": "wulTe268DlLG",
        "outputId": "f14951df-df06-40a1-ebe7-41c225bc971a"
      },
      "outputs": [
        {
          "name": "stdout",
          "output_type": "stream",
          "text": [
            "[INFO] evaluating network...\n",
            "7/7 [==============================] - 30s 4s/step\n",
            "              precision    recall  f1-score   support\n",
            "\n",
            "          no       0.70      0.70      0.70        20\n",
            "         yes       0.81      0.81      0.81        31\n",
            "\n",
            "    accuracy                           0.76        51\n",
            "   macro avg       0.75      0.75      0.75        51\n",
            "weighted avg       0.76      0.76      0.76        51\n",
            "\n",
            "[[14  6]\n",
            " [ 6 25]]\n",
            "acc: 0.7647\n",
            "sensitivity: 0.7000\n",
            "specificity: 0.8065\n"
          ]
        }
      ],
      "source": [
        "print(\"[INFO] evaluating network...\")\n",
        "predIdxs = model.predict(testX, batch_size=BS)\n",
        "\n",
        "# for each image in the testing set we need to find the index of the\n",
        "# label with corresponding largest predicted probability\n",
        "predIdxs = np.argmax(predIdxs, axis=1)\n",
        "\n",
        "# show a nicely formatted classification report\n",
        "print(classification_report(testY.argmax(axis=1), predIdxs,\n",
        "\ttarget_names=lb.classes_))\n",
        "\n",
        "# compute the confusion matrix and and use it to derive the raw\n",
        "# accuracy, sensitivity, and specificity\n",
        "cm = confusion_matrix(testY.argmax(axis=1), predIdxs)\n",
        "total = sum(sum(cm))\n",
        "acc = (cm[0, 0] + cm[1, 1]) / total\n",
        "sensitivity = cm[0, 0] / (cm[0, 0] + cm[0, 1])\n",
        "specificity = cm[1, 1] / (cm[1, 0] + cm[1, 1])\n",
        "\n",
        "# show the confusion matrix, accuracy, sensitivity, and specificity\n",
        "print(cm)\n",
        "print(\"acc: {:.4f}\".format(acc))\n",
        "print(\"sensitivity: {:.4f}\".format(sensitivity))\n",
        "print(\"specificity: {:.4f}\".format(specificity))"
      ]
    },
    {
      "cell_type": "markdown",
      "metadata": {
        "id": "IDMJjdi1DlLG"
      },
      "source": [
        "**There are 95 correct observations out of 102 (total observations)**"
      ]
    },
    {
      "cell_type": "code",
      "execution_count": null,
      "metadata": {
        "colab": {
          "background_save": true
        },
        "id": "0T6q94PQDlLG",
        "outputId": "4380fee0-d891-4167-c69c-52573597f4c1"
      },
      "outputs": [
        {
          "data": {
            "image/png": "[encoded data removed]",
            "text/plain": [
              "<Figure size 640x480 with 1 Axes>"
            ]
          },
          "metadata": {},
          "output_type": "display_data"
        }
      ],
      "source": [
        "#plot the training loss and accuracy\n",
        "N = EPOCHS\n",
        "plt.style.use(\"ggplot\")\n",
        "plt.figure()\n",
        "plt.plot(np.arange(0, N), H.history[\"loss\"], label=\"train_loss\")\n",
        "plt.plot(np.arange(0, N), H.history[\"val_loss\"], label=\"val_loss\")\n",
        "plt.plot(np.arange(0, N), H.history[\"accuracy\"], label=\"train_acc\")\n",
        "plt.plot(np.arange(0, N), H.history[\"val_accuracy\"], label=\"val_acc\")\n",
        "plt.title(\"Training Loss and Accuracy on Brain Dataset\")\n",
        "plt.xlabel(\"Epoch #\")\n",
        "plt.ylabel(\"Loss/Accuracy\")\n",
        "plt.legend(loc=\"lower left\")\n",
        "plt.savefig(\"plot.jpg\")"
      ]
    },
    {
      "cell_type": "code",
      "execution_count": null,
      "metadata": {
        "colab": {
          "background_save": true
        },
        "id": "s32TQYpmDlLG",
        "outputId": "52975848-9256-46b1-b425-1d4dc509162a"
      },
      "outputs": [
        {
          "name": "stdout",
          "output_type": "stream",
          "text": [
            "[INFO] saving Brain Tumor detector model...\n"
          ]
        },
        {
          "name": "stderr",
          "output_type": "stream",
          "text": [
            "/usr/local/lib/python3.10/dist-packages/keras/src/engine/training.py:3103: UserWarning: You are saving your model as an HDF5 file via `model.save()`. This file format is considered legacy. We recommend using instead the native Keras format, e.g. `model.save('my_model.keras')`.\n",
            "  saving_api.save_model(\n"
          ]
        }
      ],
      "source": [
        "# serialize the model to disk\n",
        "print(\"[INFO] saving Brain Tumor detector model...\")\n",
        "model.save(\"brain.model\", save_format=\"h5\")"
      ]
    },
    {
      "cell_type": "markdown",
      "metadata": {
        "id": "sIQ7JBP-DlLH"
      },
      "source": [
        "# Result"
      ]
    },
    {
      "cell_type": "markdown",
      "metadata": {
        "id": "ZlS_sP47DlLH"
      },
      "source": [
        "**We are getting an accuracy of 93% with Sensitivity as 0.95 and Specificity as 0.91**"
      ]
    }
  ],
  "metadata": {
    "colab": {
      "provenance": []
    },
    "kernelspec": {
      "display_name": "Python 3",
      "language": "python",
      "name": "python3"
    },
    "language_info": {
      "codemirror_mode": {
        "name": "ipython",
        "version": 3
      },
      "file_extension": ".py",
      "mimetype": "text/x-python",
      "name": "python",
      "nbconvert_exporter": "python",
      "pygments_lexer": "ipython3",
      "version": "3.7.6"
    }
  },
  "nbformat": 4,
  "nbformat_minor": 0
}